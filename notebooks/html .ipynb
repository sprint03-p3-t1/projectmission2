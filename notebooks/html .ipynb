{
 "cells": [
  {
   "cell_type": "code",
   "execution_count": 1,
   "id": "5de9c5e3-d684-4d21-aa76-85dbf855011a",
   "metadata": {},
   "outputs": [
    {
     "name": "stdout",
     "output_type": "stream",
     "text": [
      "Requirement already satisfied: langchain in /opt/jhub-venv/lib/python3.10/site-packages (0.3.27)\n",
      "Requirement already satisfied: langchain-openai in /home/spai0323/myenv/lib/python3.10/site-packages (0.3.33)\n",
      "Requirement already satisfied: faiss-cpu in /opt/jhub-venv/lib/python3.10/site-packages (1.12.0)\n",
      "Requirement already satisfied: beautifulsoup4 in /opt/jhub-venv/lib/python3.10/site-packages (4.13.5)\n",
      "Requirement already satisfied: langchain-core<1.0.0,>=0.3.72 in /opt/jhub-venv/lib/python3.10/site-packages (from langchain) (0.3.76)\n",
      "Requirement already satisfied: SQLAlchemy<3,>=1.4 in /opt/jhub-venv/lib/python3.10/site-packages (from langchain) (2.0.43)\n",
      "Requirement already satisfied: PyYAML>=5.3 in /opt/jhub-venv/lib/python3.10/site-packages (from langchain) (6.0.2)\n",
      "Requirement already satisfied: pydantic<3.0.0,>=2.7.4 in /opt/jhub-venv/lib/python3.10/site-packages (from langchain) (2.11.7)\n",
      "Requirement already satisfied: async-timeout<5.0.0,>=4.0.0 in /opt/jhub-venv/lib/python3.10/site-packages (from langchain) (4.0.3)\n",
      "Requirement already satisfied: langchain-text-splitters<1.0.0,>=0.3.9 in /opt/jhub-venv/lib/python3.10/site-packages (from langchain) (0.3.11)\n",
      "Requirement already satisfied: requests<3,>=2 in /opt/jhub-venv/lib/python3.10/site-packages (from langchain) (2.32.5)\n",
      "Requirement already satisfied: langsmith>=0.1.17 in /opt/jhub-venv/lib/python3.10/site-packages (from langchain) (0.4.27)\n",
      "Requirement already satisfied: tiktoken<1,>=0.7 in /home/spai0323/myenv/lib/python3.10/site-packages (from langchain-openai) (0.11.0)\n",
      "Requirement already satisfied: openai<2.0.0,>=1.104.2 in /opt/jhub-venv/lib/python3.10/site-packages (from langchain-openai) (1.107.2)\n",
      "Requirement already satisfied: packaging in /opt/jhub-venv/lib/python3.10/site-packages (from faiss-cpu) (25.0)\n",
      "Requirement already satisfied: numpy<3.0,>=1.25.0 in /opt/jhub-venv/lib/python3.10/site-packages (from faiss-cpu) (2.1.2)\n",
      "Requirement already satisfied: typing-extensions>=4.0.0 in /opt/jhub-venv/lib/python3.10/site-packages (from beautifulsoup4) (4.12.2)\n",
      "Requirement already satisfied: soupsieve>1.2 in /opt/jhub-venv/lib/python3.10/site-packages (from beautifulsoup4) (2.8)\n",
      "Requirement already satisfied: tenacity!=8.4.0,<10.0.0,>=8.1.0 in /opt/jhub-venv/lib/python3.10/site-packages (from langchain-core<1.0.0,>=0.3.72->langchain) (9.1.2)\n",
      "Requirement already satisfied: jsonpatch<2.0,>=1.33 in /opt/jhub-venv/lib/python3.10/site-packages (from langchain-core<1.0.0,>=0.3.72->langchain) (1.33)\n",
      "Requirement already satisfied: requests-toolbelt>=1.0.0 in /opt/jhub-venv/lib/python3.10/site-packages (from langsmith>=0.1.17->langchain) (1.0.0)\n",
      "Requirement already satisfied: httpx<1,>=0.23.0 in /opt/jhub-venv/lib/python3.10/site-packages (from langsmith>=0.1.17->langchain) (0.28.1)\n",
      "Requirement already satisfied: zstandard>=0.23.0 in /opt/jhub-venv/lib/python3.10/site-packages (from langsmith>=0.1.17->langchain) (0.25.0)\n",
      "Requirement already satisfied: orjson>=3.9.14 in /opt/jhub-venv/lib/python3.10/site-packages (from langsmith>=0.1.17->langchain) (3.11.3)\n",
      "Requirement already satisfied: jiter<1,>=0.4.0 in /opt/jhub-venv/lib/python3.10/site-packages (from openai<2.0.0,>=1.104.2->langchain-openai) (0.10.0)\n",
      "Requirement already satisfied: sniffio in /opt/jhub-venv/lib/python3.10/site-packages (from openai<2.0.0,>=1.104.2->langchain-openai) (1.3.1)\n",
      "Requirement already satisfied: anyio<5,>=3.5.0 in /opt/jhub-venv/lib/python3.10/site-packages (from openai<2.0.0,>=1.104.2->langchain-openai) (4.10.0)\n",
      "Requirement already satisfied: tqdm>4 in /opt/jhub-venv/lib/python3.10/site-packages (from openai<2.0.0,>=1.104.2->langchain-openai) (4.67.1)\n",
      "Requirement already satisfied: distro<2,>=1.7.0 in /opt/jhub-venv/lib/python3.10/site-packages (from openai<2.0.0,>=1.104.2->langchain-openai) (1.9.0)\n",
      "Requirement already satisfied: annotated-types>=0.6.0 in /opt/jhub-venv/lib/python3.10/site-packages (from pydantic<3.0.0,>=2.7.4->langchain) (0.7.0)\n",
      "Requirement already satisfied: typing-inspection>=0.4.0 in /opt/jhub-venv/lib/python3.10/site-packages (from pydantic<3.0.0,>=2.7.4->langchain) (0.4.1)\n",
      "Requirement already satisfied: pydantic-core==2.33.2 in /opt/jhub-venv/lib/python3.10/site-packages (from pydantic<3.0.0,>=2.7.4->langchain) (2.33.2)\n",
      "Requirement already satisfied: idna<4,>=2.5 in /opt/jhub-venv/lib/python3.10/site-packages (from requests<3,>=2->langchain) (3.10)\n",
      "Requirement already satisfied: urllib3<3,>=1.21.1 in /opt/jhub-venv/lib/python3.10/site-packages (from requests<3,>=2->langchain) (2.5.0)\n",
      "Requirement already satisfied: certifi>=2017.4.17 in /opt/jhub-venv/lib/python3.10/site-packages (from requests<3,>=2->langchain) (2025.8.3)\n",
      "Requirement already satisfied: charset_normalizer<4,>=2 in /opt/jhub-venv/lib/python3.10/site-packages (from requests<3,>=2->langchain) (3.4.3)\n",
      "Requirement already satisfied: greenlet>=1 in /opt/jhub-venv/lib/python3.10/site-packages (from SQLAlchemy<3,>=1.4->langchain) (3.2.4)\n",
      "Requirement already satisfied: regex>=2022.1.18 in /opt/jhub-venv/lib/python3.10/site-packages (from tiktoken<1,>=0.7->langchain-openai) (2025.9.1)\n",
      "Requirement already satisfied: exceptiongroup>=1.0.2 in /opt/jhub-venv/lib/python3.10/site-packages (from anyio<5,>=3.5.0->openai<2.0.0,>=1.104.2->langchain-openai) (1.3.0)\n",
      "Requirement already satisfied: httpcore==1.* in /opt/jhub-venv/lib/python3.10/site-packages (from httpx<1,>=0.23.0->langsmith>=0.1.17->langchain) (1.0.9)\n",
      "Requirement already satisfied: h11>=0.16 in /opt/jhub-venv/lib/python3.10/site-packages (from httpcore==1.*->httpx<1,>=0.23.0->langsmith>=0.1.17->langchain) (0.16.0)\n",
      "Requirement already satisfied: jsonpointer>=1.9 in /opt/jhub-venv/lib/python3.10/site-packages (from jsonpatch<2.0,>=1.33->langchain-core<1.0.0,>=0.3.72->langchain) (3.0.0)\n",
      "Note: you may need to restart the kernel to use updated packages.\n"
     ]
    }
   ],
   "source": [
    "%pip install langchain langchain-openai faiss-cpu beautifulsoup4"
   ]
  },
  {
   "cell_type": "code",
   "execution_count": 3,
   "id": "5f138a49-daf9-4367-9b9d-2a66b77ba8e1",
   "metadata": {},
   "outputs": [
    {
     "name": "stdout",
     "output_type": "stream",
     "text": [
      "Requirement already satisfied: python-dotenv in /opt/jhub-venv/lib/python3.10/site-packages (1.1.1)\n",
      "Note: you may need to restart the kernel to use updated packages.\n"
     ]
    }
   ],
   "source": [
    "%pip install python-dotenv"
   ]
  },
  {
   "cell_type": "code",
   "execution_count": 15,
   "id": "68cc99e8-9097-48da-86e8-e333d53ddc3d",
   "metadata": {},
   "outputs": [
    {
     "ename": "ModuleNotFoundError",
     "evalue": "No module named 'pyhwp'",
     "output_type": "error",
     "traceback": [
      "\u001b[0;31m---------------------------------------------------------------------------\u001b[0m",
      "\u001b[0;31mModuleNotFoundError\u001b[0m                       Traceback (most recent call last)",
      "Cell \u001b[0;32mIn[15], line 1\u001b[0m\n\u001b[0;32m----> 1\u001b[0m \u001b[38;5;28;01mimport\u001b[39;00m\u001b[38;5;250m \u001b[39m\u001b[38;5;21;01mpyhwp\u001b[39;00m\n\u001b[1;32m      2\u001b[0m \u001b[38;5;28;01mimport\u001b[39;00m\u001b[38;5;250m \u001b[39m\u001b[38;5;21;01mjson\u001b[39;00m\n\u001b[1;32m      3\u001b[0m \u001b[38;5;28;01mfrom\u001b[39;00m\u001b[38;5;250m \u001b[39m\u001b[38;5;21;01mpathlib\u001b[39;00m\u001b[38;5;250m \u001b[39m\u001b[38;5;28;01mimport\u001b[39;00m Path\n",
      "\u001b[0;31mModuleNotFoundError\u001b[0m: No module named 'pyhwp'"
     ]
    }
   ],
   "source": [
    "import pyhwp\n",
    "import json\n",
    "from pathlib import Path\n",
    "\n",
    "# HWP 파일 경로\n",
    "hwp_path = Path('../data/raw/files/(재)예술경영지원센터_통합 정보시스템 구축 사전 컨설팅.hwp')\n",
    "# JSON 저장 경로\n",
    "json_path = hwp_path.parent / f\"{hwp_path.stem}.json\"\n",
    "\n",
    "# HWP 파일 열기\n",
    "doc = pyhwp.HWPFile(hwp_path)\n",
    "\n",
    "# pyhwp에는 HWP 내부 구조를 dict로 변환하는 함수가 있음\n",
    "# 기본적으로 각 섹션, 문단, 글자, 표 정보까지 포함\n",
    "def hwp_to_dict(doc):\n",
    "    result = {\"sections\": []}\n",
    "    for section in doc.bodytext:\n",
    "        sec_data = {\"paragraphs\": []}\n",
    "        for para in section.paragraphs:\n",
    "            para_data = {\n",
    "                \"text\": para.text,\n",
    "                \"runs\": [\n",
    "                    {\n",
    "                        \"text\": run.text,\n",
    "                        \"char_shape\": run.char_shape.__dict__ if run.char_shape else None,\n",
    "                        \"bg_color\": run.bg_color,\n",
    "                    }\n",
    "                    for run in para.runs\n",
    "                ],\n",
    "            }\n",
    "            sec_data[\"paragraphs\"].append(para_data)\n",
    "        result[\"sections\"].append(sec_data)\n",
    "    return result\n",
    "\n",
    "# dict로 변환\n",
    "hwp_dict = hwp_to_dict(doc)\n",
    "\n",
    "# JSON으로 저장\n",
    "with open(json_path, 'w', encoding='utf-8') as f:\n",
    "    json.dump(hwp_dict, f, ensure_ascii=False, indent=2)\n",
    "\n",
    "print(f\"JSON 파일로 변환 완료: {json_path}\")"
   ]
  },
  {
   "cell_type": "code",
   "execution_count": null,
   "id": "6232819c-4dfb-4aea-9c54-d96e118560bb",
   "metadata": {},
   "outputs": [],
   "source": []
  }
 ],
 "metadata": {
  "kernelspec": {
   "display_name": "Python (myenv)",
   "language": "python",
   "name": "myenv"
  },
  "language_info": {
   "codemirror_mode": {
    "name": "ipython",
    "version": 3
   },
   "file_extension": ".py",
   "mimetype": "text/x-python",
   "name": "python",
   "nbconvert_exporter": "python",
   "pygments_lexer": "ipython3",
   "version": "3.10.12"
  }
 },
 "nbformat": 4,
 "nbformat_minor": 5
}
