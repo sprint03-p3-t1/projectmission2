{
 "cells": [
  {
   "cell_type": "code",
   "execution_count": 3,
   "id": "f11a9981-1d29-4323-907e-b6f58ac1198a",
   "metadata": {},
   "outputs": [
    {
     "name": "stdout",
     "output_type": "stream",
     "text": [
      "'../data/processed/datapreprocessingbjs(hwp5proc)/pdf_processed_json' 폴더와 모든 내용이 성공적으로 삭제되었습니다.\n"
     ]
    }
   ],
   "source": [
    "import shutil\n",
    "\n",
    "# 삭제할 폴더 경로를 지정하세요.\n",
    "folder_path = '../data/processed/datapreprocessingbjs(hwp5proc)/pdf_processed_json'\n",
    "try:\n",
    "    shutil.rmtree(folder_path)\n",
    "    print(f\"'{folder_path}' 폴더와 모든 내용이 성공적으로 삭제되었습니다.\")\n",
    "except OSError as e:\n",
    "    print(f\"오류: {e.strerror} - {e.filename}\")"
   ]
  },
  {
   "cell_type": "code",
   "execution_count": null,
   "id": "a2538f11-ede7-42e2-894a-71d505b38c17",
   "metadata": {},
   "outputs": [],
   "source": []
  }
 ],
 "metadata": {
  "kernelspec": {
   "display_name": "Python (myenv)",
   "language": "python",
   "name": "myenv"
  },
  "language_info": {
   "codemirror_mode": {
    "name": "ipython",
    "version": 3
   },
   "file_extension": ".py",
   "mimetype": "text/x-python",
   "name": "python",
   "nbconvert_exporter": "python",
   "pygments_lexer": "ipython3",
   "version": "3.10.12"
  }
 },
 "nbformat": 4,
 "nbformat_minor": 5
}
