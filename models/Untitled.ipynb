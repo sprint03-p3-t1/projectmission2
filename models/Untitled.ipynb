{
 "cells": [
  {
   "cell_type": "code",
   "execution_count": 4,
   "id": "20e1fe34-cf87-491e-85f5-a4016af958f2",
   "metadata": {},
   "outputs": [],
   "source": [
    "FOLDER_PATH = \"./hwp_test_3files\"\n",
    "\n",
    "EXCLUDE_DIRS = {\n",
    "    \".git\", \"__pycache__\", \"node_modules\", \".ipynb_checkpoints\",\n",
    "    \".venv\", \"venv\", \".mypy_cache\", \".ruff_cache\", \".pytest_cache\",\n",
    "    \"build\", \"dist\"\n",
    "}\n",
    "EXCLUDE_FILE_PATTERNS = [\"*.pyc\", \"*.pyo\", \"*.o\", \"*.so\", \"*.DS_Store\", \"Thumbs.db\"]\n",
    "\n"
   ]
  },
  {
   "cell_type": "code",
   "execution_count": 5,
   "id": "eee64bc2-29e1-4d4b-977e-9ed0b33ded14",
   "metadata": {},
   "outputs": [
    {
     "name": "stdout",
     "output_type": "stream",
     "text": [
      "[확인] 대상 폴더: /home/spai0316/projectmission2/models/hwp_test_3files\n",
      "[확인] 출력 ZIP : hwp_test_3files_20250916_001349.zip\n"
     ]
    }
   ],
   "source": [
    "import os\n",
    "from datetime import datetime\n",
    "from pathlib import Path\n",
    "\n",
    "root = Path(FOLDER_PATH).resolve()\n",
    "if not root.exists():\n",
    "    raise FileNotFoundError(f\"폴더를 찾을 수 없습니다: {root}\")\n",
    "\n",
    "BASE_NAME = root.name\n",
    "TIMESTAMP = datetime.now().strftime(\"%Y%m%d_%H%M%S\")\n",
    "OUTPUT_ZIP = f\"{BASE_NAME}_{TIMESTAMP}.zip\"\n",
    "\n",
    "print(f\"[확인] 대상 폴더: {root}\")\n",
    "print(f\"[확인] 출력 ZIP : {OUTPUT_ZIP}\")"
   ]
  },
  {
   "cell_type": "code",
   "execution_count": 6,
   "id": "e6f17db8-338b-4c3e-9098-b763bc2dd29c",
   "metadata": {},
   "outputs": [
    {
     "name": "stdout",
     "output_type": "stream",
     "text": [
      "[정보] 압축 대상 파일 수: 5\n"
     ]
    },
    {
     "name": "stderr",
     "output_type": "stream",
     "text": [
      "Zipping: 100%|██████████| 5/5 [00:15<00:00,  3.05s/files]"
     ]
    },
    {
     "name": "stdout",
     "output_type": "stream",
     "text": [
      "[완료] 생성된 ZIP: hwp_test_3files_20250916_001349.zip\n"
     ]
    },
    {
     "name": "stderr",
     "output_type": "stream",
     "text": [
      "\n"
     ]
    }
   ],
   "source": [
    "import os, fnmatch, zipfile\n",
    "from pathlib import Path\n",
    "\n",
    "# tqdm이 없으면 무진행 표시로 대체\n",
    "try:\n",
    "    from tqdm import tqdm\n",
    "except Exception:\n",
    "    def tqdm(x, **k): return x\n",
    "\n",
    "def should_exclude(path: Path) -> bool:\n",
    "    # 경로 안에 제외 디렉터리가 포함되면 제외\n",
    "    for part in path.parts:\n",
    "        if part in EXCLUDE_DIRS:\n",
    "            return True\n",
    "    # 파일 패턴 제외\n",
    "    for pat in EXCLUDE_FILE_PATTERNS:\n",
    "        if fnmatch.fnmatch(path.name, pat):\n",
    "            return True\n",
    "    return False\n",
    "\n",
    "# 압축 대상 파일 수집\n",
    "all_files = []\n",
    "for p, dirs, files in os.walk(root):\n",
    "    # 디렉터리 단계에서 제외 디렉터리 가지치기(성능 ↑)\n",
    "    dirs[:] = [d for d in dirs if d not in EXCLUDE_DIRS]\n",
    "    for f in files:\n",
    "        fp = Path(p) / f\n",
    "        if not should_exclude(fp):\n",
    "            all_files.append(fp)\n",
    "\n",
    "print(f\"[정보] 압축 대상 파일 수: {len(all_files)}\")\n",
    "\n",
    "# ZIP64(2GB+) 지원, Deflate 압축\n",
    "with zipfile.ZipFile(OUTPUT_ZIP, \"w\", compression=zipfile.ZIP_DEFLATED, allowZip64=True) as zf:\n",
    "    for fp in tqdm(all_files, desc=\"Zipping\", unit=\"files\"):\n",
    "        arcname = fp.relative_to(root)  # 폴더 상대경로로 보존\n",
    "        zf.write(fp, arcname)\n",
    "\n",
    "print(f\"[완료] 생성된 ZIP: {OUTPUT_ZIP}\")"
   ]
  },
  {
   "cell_type": "code",
   "execution_count": 7,
   "id": "30fa80f9-76e0-4c5c-8c99-289bc78a9451",
   "metadata": {},
   "outputs": [
    {
     "name": "stdout",
     "output_type": "stream",
     "text": [
      "[ZIP] hwp_test_3files_20250916_001349.zip\n",
      "[크기] 223.65 MB\n",
      "[SHA256] 7ebd3db875f07aa6cdb9de30e203f8c91c62a7513270455449377fe3273846c2\n",
      "[샘플 15개 항목]\n",
      " └─ pipeline_config.json\n",
      " └─ embeddings.npy\n",
      " └─ chunks.jsonl\n",
      " └─ vector_store/faiss_index.bin\n",
      " └─ vector_store/metadata.json\n"
     ]
    }
   ],
   "source": [
    "import os, hashlib\n",
    "\n",
    "def sha256sum(path, block_size=1024*1024):\n",
    "    h = hashlib.sha256()\n",
    "    with open(path, \"rb\") as f:\n",
    "        while True:\n",
    "            b = f.read(block_size)\n",
    "            if not b: break\n",
    "            h.update(b)\n",
    "    return h.hexdigest()\n",
    "\n",
    "def human_bytes(n: int) -> str:\n",
    "    units = [\"B\",\"KB\",\"MB\",\"GB\",\"TB\",\"PB\"]\n",
    "    size = float(n)\n",
    "    for u in units:\n",
    "        if size < 1024:\n",
    "            return f\"{size:.2f} {u}\"\n",
    "        size /= 1024\n",
    "    return f\"{size:.2f} EB\"\n",
    "\n",
    "size = os.path.getsize(OUTPUT_ZIP)\n",
    "print(f\"[ZIP] {OUTPUT_ZIP}\")\n",
    "print(f\"[크기] {human_bytes(size)}\")\n",
    "print(f\"[SHA256] {sha256sum(OUTPUT_ZIP)}\")\n",
    "\n",
    "# (선택) ZIP 내부 샘플 확인\n",
    "import zipfile\n",
    "with zipfile.ZipFile(OUTPUT_ZIP, \"r\") as zf:\n",
    "    names = zf.namelist()[:15]\n",
    "print(\"[샘플 15개 항목]\")\n",
    "for n in names:\n",
    "    print(\" └─\", n)"
   ]
  },
  {
   "cell_type": "code",
   "execution_count": 8,
   "id": "0e32b7f0-d502-4893-aaa4-051afecc770d",
   "metadata": {},
   "outputs": [
    {
     "data": {
      "text/html": [
       "클릭하여 다운로드: <a href='hwp_test_3files_20250916_001349.zip' target='_blank'>hwp_test_3files_20250916_001349.zip</a><br>"
      ],
      "text/plain": [
       "/home/spai0316/projectmission2/models/hwp_test_3files_20250916_001349.zip"
      ]
     },
     "metadata": {},
     "output_type": "display_data"
    },
    {
     "name": "stdout",
     "output_type": "stream",
     "text": [
      "Colab 자동 다운로드가 아니거나 제한으로 인해 실패했습니다.\n",
      "위의 링크를 클릭하여 다운로드하세요.\n"
     ]
    }
   ],
   "source": [
    "from IPython.display import FileLink, display\n",
    "\n",
    "# Jupyter(Lab) / VSCode 노트북: 클릭해서 다운로드\n",
    "display(FileLink(OUTPUT_ZIP, result_html_prefix=\"클릭하여 다운로드: \"))\n",
    "\n",
    "# Google Colab 환경이면 자동 다운로드 시도\n",
    "try:\n",
    "    from google.colab import files as colab_files\n",
    "    colab_files.download(OUTPUT_ZIP)\n",
    "except Exception as e:\n",
    "    # Colab이 아니거나 제한으로 실패한 경우\n",
    "    print(\"Colab 자동 다운로드가 아니거나 제한으로 인해 실패했습니다.\")\n",
    "    print(\"위의 링크를 클릭하여 다운로드하세요.\")"
   ]
  },
  {
   "cell_type": "code",
   "execution_count": null,
   "id": "f1881de2-2068-462e-842e-683ef1905ed4",
   "metadata": {},
   "outputs": [],
   "source": []
  }
 ],
 "metadata": {
  "kernelspec": {
   "display_name": "Python (myenv)",
   "language": "python",
   "name": "myenv"
  },
  "language_info": {
   "codemirror_mode": {
    "name": "ipython",
    "version": 3
   },
   "file_extension": ".py",
   "mimetype": "text/x-python",
   "name": "python",
   "nbconvert_exporter": "python",
   "pygments_lexer": "ipython3",
   "version": "3.10.12"
  }
 },
 "nbformat": 4,
 "nbformat_minor": 5
}
